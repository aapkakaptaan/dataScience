{
 "cells": [
  {
   "cell_type": "markdown",
   "id": "c51f5a0a-4c35-459d-a854-947a697af79e",
   "metadata": {
    "tags": []
   },
   "source": [
    "# Data Science Tools and Ecosystem"
   ]
  },
  {
   "cell_type": "markdown",
   "id": "78f4af35-9891-4b1a-9b70-66edeaeb4a99",
   "metadata": {},
   "source": [
    "In this notebook, Data Science Tools and Ecosystem are summarized.\n"
   ]
  },
  {
   "cell_type": "markdown",
   "id": "ffc8337c-10cf-447d-a89b-9cfd77cb74a9",
   "metadata": {
    "tags": []
   },
   "source": [
    "**Objectives**\n",
    "+ Python\n",
    "+ R\n",
    "+ Julia"
   ]
  },
  {
   "cell_type": "markdown",
   "id": "a3ae72a8-6e8d-4b4c-82b3-52fc9a0dfc0f",
   "metadata": {
    "tags": []
   },
   "source": [
    " Some of the popular languages that Data Scientists use are:\n",
    "1. Python\n",
    "2. R\n",
    "3. SQL\n"
   ]
  },
  {
   "cell_type": "markdown",
   "id": "1085d9a5-a318-4b2d-a668-cf46592b57de",
   "metadata": {},
   "source": [
    "Some of the commonly used libraries used by Data Scientists include:\n",
    "1. Pandas\n",
    "2. Numpy\n",
    "3. Matplotlib"
   ]
  },
  {
   "cell_type": "markdown",
   "id": "bc6b67ea-94d6-4c02-b887-8b001c853770",
   "metadata": {},
   "source": [
    "|Data Science Tools|\n",
    "|-------------------|\n",
    "|Jupyter Notebook|\n",
    "|RStudio|\n",
    "|Spyder|"
   ]
  },
  {
   "cell_type": "markdown",
   "id": "097aac89-ad4a-4093-bfb9-b3f04bd7dcb0",
   "metadata": {
    "tags": []
   },
   "source": [
    "### Below are a few examples of evaluating arithmetic expressions in Python.\n"
   ]
  },
  {
   "cell_type": "code",
   "execution_count": 8,
   "id": "6baa0b52-a9e6-44da-a60a-6189abc7a5a7",
   "metadata": {
    "tags": []
   },
   "outputs": [
    {
     "data": {
      "text/plain": [
       "17"
      ]
     },
     "execution_count": 8,
     "metadata": {},
     "output_type": "execute_result"
    }
   ],
   "source": [
    "# This a simple arithmetic expression to mutiply then add integers\n",
    "(3*4)+5"
   ]
  },
  {
   "cell_type": "code",
   "execution_count": 9,
   "id": "59f273b3-4a75-4702-b930-a191415b6e89",
   "metadata": {
    "tags": []
   },
   "outputs": [
    {
     "data": {
      "text/plain": [
       "3.3333333333333335"
      ]
     },
     "execution_count": 9,
     "metadata": {},
     "output_type": "execute_result"
    }
   ],
   "source": [
    "# This will convert 200 minutes to hours by diving by 60\n",
    "200/60"
   ]
  },
  {
   "cell_type": "markdown",
   "id": "91619e82-3094-4b7b-b0b1-3efe692daf7d",
   "metadata": {},
   "source": [
    "## Author\n",
    "\n",
    "Siddhant Rai"
   ]
  },
  {
   "cell_type": "code",
   "execution_count": null,
   "id": "cd092b2f-1af8-4aa7-8630-12feac88798f",
   "metadata": {},
   "outputs": [],
   "source": []
  }
 ],
 "metadata": {
  "kernelspec": {
   "display_name": "Python",
   "language": "python",
   "name": "conda-env-python-py"
  },
  "language_info": {
   "codemirror_mode": {
    "name": "ipython",
    "version": 3
   },
   "file_extension": ".py",
   "mimetype": "text/x-python",
   "name": "python",
   "nbconvert_exporter": "python",
   "pygments_lexer": "ipython3",
   "version": "3.7.12"
  }
 },
 "nbformat": 4,
 "nbformat_minor": 5
}
